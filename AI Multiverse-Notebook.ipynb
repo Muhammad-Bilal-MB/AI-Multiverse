{
 "cells": [
  {
   "cell_type": "markdown",
   "id": "82b2239c",
   "metadata": {},
   "source": [
    "# Print Function"
   ]
  },
  {
   "cell_type": "code",
   "execution_count": 24,
   "id": "d45a800f",
   "metadata": {},
   "outputs": [
    {
     "name": "stdout",
     "output_type": "stream",
     "text": [
      "ABC This is separator CDE -------- New line\n"
     ]
    }
   ],
   "source": [
    "print(\"ABC\",\"CDE\", sep=\" This is separator \", end=\" -------- \")\n",
    "print(\"New line\")"
   ]
  },
  {
   "cell_type": "code",
   "execution_count": 28,
   "id": "80f5ba8d",
   "metadata": {},
   "outputs": [
    {
     "name": "stdout",
     "output_type": "stream",
     "text": [
      "<class 'int'>\n",
      "<class 'str'>\n"
     ]
    },
    {
     "data": {
      "text/plain": [
       "float"
      ]
     },
     "execution_count": 28,
     "metadata": {},
     "output_type": "execute_result"
    }
   ],
   "source": [
    "a = 5\n",
    "b = \"5\"\n",
    "c = 5.0\n",
    "\n",
    "print(type(a))\n",
    "print(type(b))\n",
    "type(c)"
   ]
  },
  {
   "cell_type": "code",
   "execution_count": 31,
   "id": "874f8713",
   "metadata": {},
   "outputs": [
    {
     "ename": "TypeError",
     "evalue": "unsupported operand type(s) for +: 'int' and 'str'",
     "output_type": "error",
     "traceback": [
      "\u001b[1;31m---------------------------------------------------------------------------\u001b[0m",
      "\u001b[1;31mTypeError\u001b[0m                                 Traceback (most recent call last)",
      "\u001b[1;32m~\\AppData\\Local\\Temp/ipykernel_8336/3864629426.py\u001b[0m in \u001b[0;36m<module>\u001b[1;34m\u001b[0m\n\u001b[1;32m----> 1\u001b[1;33m \u001b[0mprint\u001b[0m\u001b[1;33m(\u001b[0m\u001b[0ma\u001b[0m \u001b[1;33m+\u001b[0m \u001b[0mb\u001b[0m\u001b[1;33m)\u001b[0m\u001b[1;33m\u001b[0m\u001b[1;33m\u001b[0m\u001b[0m\n\u001b[0m",
      "\u001b[1;31mTypeError\u001b[0m: unsupported operand type(s) for +: 'int' and 'str'"
     ]
    }
   ],
   "source": [
    "print(a + b)"
   ]
  },
  {
   "cell_type": "code",
   "execution_count": 32,
   "id": "5f827854",
   "metadata": {},
   "outputs": [
    {
     "name": "stdout",
     "output_type": "stream",
     "text": [
      "10.0\n"
     ]
    }
   ],
   "source": [
    "print(a + c)"
   ]
  },
  {
   "cell_type": "code",
   "execution_count": 33,
   "id": "83237fab",
   "metadata": {},
   "outputs": [
    {
     "name": "stdout",
     "output_type": "stream",
     "text": [
      "5\n"
     ]
    }
   ],
   "source": [
    "print(int(c))"
   ]
  },
  {
   "cell_type": "code",
   "execution_count": 35,
   "id": "deacbc72",
   "metadata": {},
   "outputs": [
    {
     "name": "stdout",
     "output_type": "stream",
     "text": [
      "<class 'str'>\n"
     ]
    }
   ],
   "source": [
    "print(type(str(a)))"
   ]
  },
  {
   "cell_type": "code",
   "execution_count": 38,
   "id": "27155d78",
   "metadata": {},
   "outputs": [
    {
     "ename": "ValueError",
     "evalue": "invalid literal for int() with base 10: '7a'",
     "output_type": "error",
     "traceback": [
      "\u001b[1;31m---------------------------------------------------------------------------\u001b[0m",
      "\u001b[1;31mValueError\u001b[0m                                Traceback (most recent call last)",
      "\u001b[1;32m~\\AppData\\Local\\Temp/ipykernel_8336/3125115565.py\u001b[0m in \u001b[0;36m<module>\u001b[1;34m\u001b[0m\n\u001b[1;32m----> 1\u001b[1;33m \u001b[0mprint\u001b[0m\u001b[1;33m(\u001b[0m\u001b[0mint\u001b[0m\u001b[1;33m(\u001b[0m\u001b[1;34m\"7a\"\u001b[0m\u001b[1;33m)\u001b[0m\u001b[1;33m)\u001b[0m\u001b[1;33m\u001b[0m\u001b[1;33m\u001b[0m\u001b[0m\n\u001b[0m",
      "\u001b[1;31mValueError\u001b[0m: invalid literal for int() with base 10: '7a'"
     ]
    }
   ],
   "source": [
    "print(int(\"7a\"))"
   ]
  },
  {
   "cell_type": "code",
   "execution_count": 46,
   "id": "d6b03f40",
   "metadata": {},
   "outputs": [],
   "source": [
    "array = [10, \"bilal\", 7.3, True, 6, 5, 0, 1, 3, 4, 6]"
   ]
  },
  {
   "cell_type": "code",
   "execution_count": 48,
   "id": "3585b9b0",
   "metadata": {},
   "outputs": [
    {
     "name": "stdout",
     "output_type": "stream",
     "text": [
      "['bilal', True, 5]\n"
     ]
    }
   ],
   "source": [
    "print(array[1:7:2])"
   ]
  },
  {
   "cell_type": "code",
   "execution_count": null,
   "id": "e3055f99",
   "metadata": {},
   "outputs": [],
   "source": [
    "array.append()"
   ]
  },
  {
   "cell_type": "code",
   "execution_count": 1,
   "id": "7ab10195",
   "metadata": {},
   "outputs": [],
   "source": [
    "first_name = 5\n",
    "first_Name = 10"
   ]
  },
  {
   "cell_type": "code",
   "execution_count": 2,
   "id": "43583d51",
   "metadata": {},
   "outputs": [
    {
     "name": "stdout",
     "output_type": "stream",
     "text": [
      "10 5\n"
     ]
    }
   ],
   "source": [
    "print(first_Name, first_name)"
   ]
  },
  {
   "cell_type": "code",
   "execution_count": 3,
   "id": "d5789d57",
   "metadata": {},
   "outputs": [],
   "source": [
    "x = 5\n",
    "y = 10"
   ]
  },
  {
   "cell_type": "code",
   "execution_count": 4,
   "id": "0fa557a7",
   "metadata": {},
   "outputs": [],
   "source": [
    "x,y = y,x"
   ]
  },
  {
   "cell_type": "code",
   "execution_count": 10,
   "id": "1bafec63",
   "metadata": {},
   "outputs": [
    {
     "name": "stdout",
     "output_type": "stream",
     "text": [
      "10ABC5\n"
     ]
    }
   ],
   "source": [
    "print(x,y, sep=\"ABC\")"
   ]
  },
  {
   "cell_type": "code",
   "execution_count": 6,
   "id": "14b7a2d8",
   "metadata": {},
   "outputs": [
    {
     "name": "stdout",
     "output_type": "stream",
     "text": [
      "1 0\n"
     ]
    }
   ],
   "source": [
    "print(5%2, 6%2)"
   ]
  },
  {
   "cell_type": "code",
   "execution_count": 8,
   "id": "f575624d",
   "metadata": {},
   "outputs": [
    {
     "name": "stdout",
     "output_type": "stream",
     "text": [
      "3.6 3.0\n"
     ]
    }
   ],
   "source": [
    "print(7.2/2, 7.2//2)"
   ]
  },
  {
   "cell_type": "code",
   "execution_count": 1,
   "id": "5c64f125",
   "metadata": {},
   "outputs": [],
   "source": [
    "name = ['A', 3, 1.5, 1.5]"
   ]
  },
  {
   "cell_type": "code",
   "execution_count": 2,
   "id": "9819e422",
   "metadata": {},
   "outputs": [],
   "source": [
    "name.remove(1.5)"
   ]
  },
  {
   "cell_type": "code",
   "execution_count": 4,
   "id": "928a4653",
   "metadata": {},
   "outputs": [],
   "source": [
    "el = name.pop(2)"
   ]
  },
  {
   "cell_type": "code",
   "execution_count": 6,
   "id": "8d495bdf",
   "metadata": {},
   "outputs": [
    {
     "data": {
      "text/plain": [
       "['A', 3]"
      ]
     },
     "execution_count": 6,
     "metadata": {},
     "output_type": "execute_result"
    }
   ],
   "source": [
    "name"
   ]
  },
  {
   "cell_type": "code",
   "execution_count": null,
   "id": "0b208ab7",
   "metadata": {},
   "outputs": [],
   "source": []
  },
  {
   "cell_type": "code",
   "execution_count": 10,
   "id": "32a8635a",
   "metadata": {},
   "outputs": [],
   "source": [
    "a = [1,2,3]\n",
    "b = [4,5,6]\n",
    "\n",
    "a.append(b)"
   ]
  },
  {
   "cell_type": "code",
   "execution_count": 12,
   "id": "b8309576",
   "metadata": {},
   "outputs": [
    {
     "name": "stdout",
     "output_type": "stream",
     "text": [
      "[1, 2, 3, [4, 5, 6]]\n"
     ]
    }
   ],
   "source": [
    "print(a)"
   ]
  },
  {
   "cell_type": "code",
   "execution_count": 13,
   "id": "cb0001cc",
   "metadata": {},
   "outputs": [],
   "source": [
    "tup = (1,2)\n"
   ]
  },
  {
   "cell_type": "code",
   "execution_count": 1,
   "id": "4b3bb26f",
   "metadata": {},
   "outputs": [],
   "source": [
    "dicti = {'Bilal':45 , 'Anas':[1,2,3,4,5]}"
   ]
  },
  {
   "cell_type": "code",
   "execution_count": 2,
   "id": "0350e3ec",
   "metadata": {},
   "outputs": [
    {
     "data": {
      "text/plain": [
       "[1, 2, 3, 4, 5]"
      ]
     },
     "execution_count": 2,
     "metadata": {},
     "output_type": "execute_result"
    }
   ],
   "source": [
    "dicti['Anas']"
   ]
  },
  {
   "cell_type": "markdown",
   "id": "3e028abf",
   "metadata": {},
   "source": [
    "## Functions"
   ]
  },
  {
   "cell_type": "code",
   "execution_count": 3,
   "id": "191f5645",
   "metadata": {},
   "outputs": [],
   "source": [
    "def fun():\n",
    "    print('It is a function')"
   ]
  },
  {
   "cell_type": "code",
   "execution_count": 4,
   "id": "0554e40a",
   "metadata": {},
   "outputs": [
    {
     "name": "stdout",
     "output_type": "stream",
     "text": [
      "It is a function\n"
     ]
    }
   ],
   "source": [
    "fun()"
   ]
  },
  {
   "cell_type": "code",
   "execution_count": 5,
   "id": "3d586e27",
   "metadata": {},
   "outputs": [],
   "source": [
    "def summation(a, b):\n",
    "    print(a+b)"
   ]
  },
  {
   "cell_type": "code",
   "execution_count": 6,
   "id": "4f58305d",
   "metadata": {},
   "outputs": [
    {
     "name": "stdout",
     "output_type": "stream",
     "text": [
      "9\n",
      "5\n",
      "8\n"
     ]
    }
   ],
   "source": [
    "summation(5, 4)\n",
    "summation(3, 2)\n",
    "summation(1, 7)"
   ]
  },
  {
   "cell_type": "code",
   "execution_count": 21,
   "id": "91b87336",
   "metadata": {},
   "outputs": [],
   "source": [
    "def mul(a, b, c, d=3, e=5):\n",
    "    ans = a + b + c + d + e\n",
    "    return ans"
   ]
  },
  {
   "cell_type": "code",
   "execution_count": 29,
   "id": "b1e23c19",
   "metadata": {},
   "outputs": [],
   "source": [
    "result = mul(6, 4, 1)"
   ]
  },
  {
   "cell_type": "code",
   "execution_count": 30,
   "id": "46141a66",
   "metadata": {},
   "outputs": [
    {
     "data": {
      "text/plain": [
       "19"
      ]
     },
     "execution_count": 30,
     "metadata": {},
     "output_type": "execute_result"
    }
   ],
   "source": [
    "result"
   ]
  },
  {
   "cell_type": "code",
   "execution_count": 31,
   "id": "2f3b1c53",
   "metadata": {},
   "outputs": [],
   "source": [
    "def mul(a, b, c, d=3, e=5):\n",
    "    ans = a + b + c + d + e\n",
    "    return ans\n",
    "\n",
    "result = mul(6, 4, 1, 1, 1)\n",
    "result = mul(b=6, a=4, c=1)"
   ]
  },
  {
   "cell_type": "code",
   "execution_count": 32,
   "id": "8520907e",
   "metadata": {},
   "outputs": [],
   "source": [
    "def add(a , *b):\n",
    "    print(a, b)"
   ]
  },
  {
   "cell_type": "code",
   "execution_count": 36,
   "id": "bfb07898",
   "metadata": {},
   "outputs": [
    {
     "name": "stdout",
     "output_type": "stream",
     "text": [
      "1 (5, 3)\n"
     ]
    }
   ],
   "source": [
    "add(1, 5, 3)"
   ]
  },
  {
   "cell_type": "markdown",
   "id": "160569d0",
   "metadata": {},
   "source": [
    "You have to check paramters with double asterick **."
   ]
  },
  {
   "cell_type": "markdown",
   "id": "c0e16cd7",
   "metadata": {},
   "source": [
    "# Numpy"
   ]
  },
  {
   "cell_type": "code",
   "execution_count": 37,
   "id": "3ec70fbe",
   "metadata": {},
   "outputs": [],
   "source": [
    "import numpy as np"
   ]
  },
  {
   "cell_type": "code",
   "execution_count": 43,
   "id": "5ef3b150",
   "metadata": {},
   "outputs": [],
   "source": [
    "arr = np.array([[1,2,3], [4,5,6], [7,8,9]])"
   ]
  },
  {
   "cell_type": "code",
   "execution_count": 45,
   "id": "19d5893e",
   "metadata": {},
   "outputs": [
    {
     "data": {
      "text/plain": [
       "array([[1, 2, 3],\n",
       "       [4, 5, 6],\n",
       "       [7, 8, 9]])"
      ]
     },
     "execution_count": 45,
     "metadata": {},
     "output_type": "execute_result"
    }
   ],
   "source": [
    "arr"
   ]
  },
  {
   "cell_type": "code",
   "execution_count": 48,
   "id": "709c45ab",
   "metadata": {},
   "outputs": [
    {
     "data": {
      "text/plain": [
       "(3, 3)"
      ]
     },
     "execution_count": 48,
     "metadata": {},
     "output_type": "execute_result"
    }
   ],
   "source": [
    "arr.shape"
   ]
  },
  {
   "cell_type": "code",
   "execution_count": 50,
   "id": "0a9e3c2a",
   "metadata": {},
   "outputs": [
    {
     "data": {
      "text/plain": [
       "2"
      ]
     },
     "execution_count": 50,
     "metadata": {},
     "output_type": "execute_result"
    }
   ],
   "source": [
    "arr.ndim"
   ]
  },
  {
   "cell_type": "code",
   "execution_count": 57,
   "id": "7bb3b61f",
   "metadata": {},
   "outputs": [
    {
     "data": {
      "text/plain": [
       "array([[1, 4, 7],\n",
       "       [2, 5, 8],\n",
       "       [3, 6, 9]])"
      ]
     },
     "execution_count": 57,
     "metadata": {},
     "output_type": "execute_result"
    }
   ],
   "source": [
    "arr.transpose()"
   ]
  },
  {
   "cell_type": "code",
   "execution_count": null,
   "id": "173e8c98",
   "metadata": {},
   "outputs": [],
   "source": []
  }
 ],
 "metadata": {
  "kernelspec": {
   "display_name": "Python 3 (ipykernel)",
   "language": "python",
   "name": "python3"
  },
  "language_info": {
   "codemirror_mode": {
    "name": "ipython",
    "version": 3
   },
   "file_extension": ".py",
   "mimetype": "text/x-python",
   "name": "python",
   "nbconvert_exporter": "python",
   "pygments_lexer": "ipython3",
   "version": "3.7.11"
  }
 },
 "nbformat": 4,
 "nbformat_minor": 5
}
